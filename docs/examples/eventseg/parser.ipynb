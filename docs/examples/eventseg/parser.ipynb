{
 "cells": [
  {
   "cell_type": "code",
   "execution_count": 13,
   "metadata": {
    "collapsed": true,
    "pycharm": {
     "name": "#%%\n"
    }
   },
   "outputs": [],
   "source": [
    "import re\n",
    "\n",
    "def parse_algorithm_output(file_path):\n",
    "    # Dictionary to store the best Y value and its corresponding score for each region\n",
    "    region_data = {}\n",
    "\n",
    "    with open(file_path, 'r') as file:\n",
    "        lines = file.readlines()\n",
    "\n",
    "    for line in lines:\n",
    "        # Look for lines starting with \"Region X:\"\n",
    "        match = re.match(r\"Region (\\d+): (.*), number of regions: (\\d+), score: ([\\d.]+)\", line)\n",
    "        if match:\n",
    "            X = int(match.group(1))\n",
    "            name = match.group(2)\n",
    "            Y = int(match.group(3))\n",
    "            S = float(match.group(4))\n",
    "\n",
    "            # If the region X is not yet in the dictionary, or if this score is better, update the entry\n",
    "            if X not in region_data or S > region_data[X]['score']:\n",
    "                region_data[X] = {\n",
    "                    'name': name,\n",
    "                    'Y': Y,\n",
    "                    'score': S\n",
    "                }\n",
    "\n",
    "    # Output the results\n",
    "    for X in sorted(region_data.keys()):\n",
    "        data = region_data[X]\n",
    "        print(f\"Region {X}, {data['name']}, best number of regions: {data['Y']}, with score {data['score']:.2f}\")\n",
    "    return region_data"
   ]
  },
  {
   "cell_type": "code",
   "execution_count": 14,
   "outputs": [
    {
     "name": "stdout",
     "output_type": "stream",
     "text": [
      "Region 17, b'G_Ins_lg_and_S_cent_ins', best number of regions: 4, with score 0.06\n",
      "Region 18, b'G_insular_short', best number of regions: 29, with score 0.02\n",
      "Region 19, b'G_occipital_middle', best number of regions: 2, with score 0.15\n",
      "Region 20, b'G_occipital_sup', best number of regions: 2, with score 0.12\n",
      "Region 21, b'G_oc-temp_lat-fusifor', best number of regions: 17, with score 0.03\n",
      "Region 22, b'G_oc-temp_med-Lingual', best number of regions: 14, with score 0.06\n",
      "Region 23, b'G_oc-temp_med-Parahip', best number of regions: 24, with score 0.02\n",
      "Region 24, b'G_orbital', best number of regions: 10, with score 0.03\n",
      "Region 25, b'G_pariet_inf-Angular', best number of regions: 8, with score 0.04\n",
      "Region 26, b'G_pariet_inf-Supramar', best number of regions: 6, with score 0.09\n",
      "Region 27, b'G_parietal_sup', best number of regions: 19, with score 0.05\n",
      "Region 28, b'G_postcentral', best number of regions: 3, with score 0.06\n",
      "Region 29, b'G_precentral', best number of regions: 34, with score 0.04\n",
      "Region 30, b'G_precuneus', best number of regions: 7, with score 0.09\n",
      "Region 31, b'G_rectus', best number of regions: 10, with score 7.23\n",
      "Region 32, b'G_subcallosal', best number of regions: 28, with score 8.09\n",
      "Region 33, b'G_temp_sup-G_T_transv', best number of regions: 11, with score 0.05\n",
      "Region 34, b'G_temp_sup-Lateral', best number of regions: 5, with score 0.11\n",
      "Region 35, b'G_temp_sup-Plan_polar', best number of regions: 34, with score 0.02\n",
      "Region 36, b'G_temp_sup-Plan_tempo', best number of regions: 5, with score 0.14\n",
      "Region 37, b'G_temporal_inf', best number of regions: 2, with score 0.05\n",
      "Region 38, b'G_temporal_middle', best number of regions: 7, with score 0.07\n",
      "Region 39, b'Lat_Fis-ant-Horizont', best number of regions: 15, with score 9.00\n",
      "Region 40, b'Lat_Fis-ant-Vertical', best number of regions: 11, with score 0.04\n",
      "Region 41, b'Lat_Fis-post', best number of regions: 4, with score 0.08\n",
      "Region 42, b'Medial_wall', best number of regions: 8, with score 0.04\n",
      "Region 43, b'Pole_occipital', best number of regions: 15, with score 0.03\n",
      "Region 44, b'Pole_temporal', best number of regions: 3, with score 0.05\n",
      "Region 45, b'S_calcarine', best number of regions: 19, with score 0.05\n",
      "Region 46, b'S_central', best number of regions: 7, with score 0.03\n",
      "Region 47, b'S_cingul-Marginalis', best number of regions: 3, with score 0.06\n",
      "Region 48, b'S_circular_insula_ant', best number of regions: 2, with score 0.04\n",
      "Region 49, b'S_circular_insula_inf', best number of regions: 6, with score 0.05\n",
      "Region 50, b'S_circular_insula_sup', best number of regions: 2, with score 0.10\n",
      "Region 51, b'S_collat_transv_ant', best number of regions: 2, with score 0.06\n",
      "Region 52, b'S_collat_transv_post', best number of regions: 32, with score 0.03\n",
      "Region 53, b'S_front_inf', best number of regions: 6, with score 0.07\n",
      "Region 54, b'S_front_middle', best number of regions: 49, with score 1.06\n",
      "Region 55, b'S_front_sup', best number of regions: 2, with score 0.13\n",
      "Region 56, b'S_interm_prim-Jensen', best number of regions: 11, with score 6.31\n",
      "Region 57, b'S_intrapariet_and_P_trans', best number of regions: 2, with score 0.06\n",
      "Region 58, b'S_oc_middle_and_Lunatus', best number of regions: 4, with score 0.03\n",
      "Region 59, b'S_oc_sup_and_transversal', best number of regions: 35, with score 0.03\n",
      "Region 60, b'S_occipital_ant', best number of regions: 2, with score 0.11\n",
      "Region 61, b'S_oc-temp_lat', best number of regions: 3, with score 0.04\n",
      "Region 62, b'S_oc-temp_med_and_Lingual', best number of regions: 13, with score 0.04\n",
      "Region 63, b'S_orbital_lateral', best number of regions: 3, with score 0.15\n",
      "Region 64, b'S_orbital_med-olfact', best number of regions: 49, with score 0.01\n",
      "Region 65, b'S_orbital-H_Shaped', best number of regions: 3, with score 0.05\n",
      "Region 66, b'S_parieto_occipital', best number of regions: 2, with score 0.08\n",
      "Region 67, b'S_pericallosal', best number of regions: 7, with score 0.05\n",
      "Region 68, b'S_postcentral', best number of regions: 5, with score 0.08\n",
      "Region 69, b'S_precentral-inf-part', best number of regions: 28, with score 0.03\n",
      "Region 70, b'S_precentral-sup-part', best number of regions: 5, with score 0.05\n",
      "Region 71, b'S_suborbital', best number of regions: 3, with score 0.05\n",
      "Region 72, b'S_subparietal', best number of regions: 4, with score 0.07\n",
      "Region 73, b'S_temporal_inf', best number of regions: 46, with score 0.03\n",
      "Region 74, b'S_temporal_sup', best number of regions: 3, with score 0.12\n",
      "Region 75, b'S_temporal_transverse', best number of regions: 39, with score 0.04\n"
     ]
    }
   ],
   "source": [
    "region_data = parse_algorithm_output('HMMoutpout')"
   ],
   "metadata": {
    "collapsed": false,
    "pycharm": {
     "name": "#%%\n"
    }
   }
  },
  {
   "cell_type": "code",
   "execution_count": 8,
   "outputs": [
    {
     "name": "stdout",
     "output_type": "stream",
     "text": [
      "Region 17, b'G_Ins_lg_and_S_cent_ins', best number of regions: 4, with score 0.06\n",
      "Region 18, b'G_insular_short', best number of regions: 29, with score 0.02\n",
      "Region 19, b'G_occipital_middle', best number of regions: 2, with score 0.15\n",
      "Region 20, b'G_occipital_sup', best number of regions: 2, with score 0.12\n",
      "Region 21, b'G_oc-temp_lat-fusifor', best number of regions: 17, with score 0.03\n",
      "Region 22, b'G_oc-temp_med-Lingual', best number of regions: 14, with score 0.06\n",
      "Region 23, b'G_oc-temp_med-Parahip', best number of regions: 24, with score 0.02\n",
      "Region 24, b'G_orbital', best number of regions: 10, with score 0.03\n",
      "Region 25, b'G_pariet_inf-Angular', best number of regions: 8, with score 0.04\n",
      "Region 26, b'G_pariet_inf-Supramar', best number of regions: 6, with score 0.09\n",
      "Region 27, b'G_parietal_sup', best number of regions: 19, with score 0.05\n",
      "Region 28, b'G_postcentral', best number of regions: 3, with score 0.06\n",
      "Region 29, b'G_precentral', best number of regions: 34, with score 0.04\n",
      "Region 30, b'G_precuneus', best number of regions: 7, with score 0.09\n",
      "Region 31, b'G_rectus', best number of regions: 10, with score 7.23\n",
      "Region 32, b'G_subcallosal', best number of regions: 28, with score 8.09\n",
      "Region 33, b'G_temp_sup-G_T_transv', best number of regions: 11, with score 0.05\n",
      "Region 34, b'G_temp_sup-Lateral', best number of regions: 5, with score 0.11\n",
      "Region 35, b'G_temp_sup-Plan_polar', best number of regions: 34, with score 0.02\n",
      "Region 36, b'G_temp_sup-Plan_tempo', best number of regions: 5, with score 0.14\n",
      "Region 37, b'G_temporal_inf', best number of regions: 2, with score 0.05\n",
      "Region 38, b'G_temporal_middle', best number of regions: 7, with score 0.07\n",
      "Region 39, b'Lat_Fis-ant-Horizont', best number of regions: 15, with score 9.00\n",
      "Region 40, b'Lat_Fis-ant-Vertical', best number of regions: 11, with score 0.04\n",
      "Region 41, b'Lat_Fis-post', best number of regions: 4, with score 0.08\n",
      "Region 42, b'Medial_wall', best number of regions: 8, with score 0.04\n",
      "Region 43, b'Pole_occipital', best number of regions: 15, with score 0.03\n",
      "Region 44, b'Pole_temporal', best number of regions: 3, with score 0.05\n",
      "Region 45, b'S_calcarine', best number of regions: 19, with score 0.05\n",
      "Region 46, b'S_central', best number of regions: 7, with score 0.03\n",
      "Region 47, b'S_cingul-Marginalis', best number of regions: 3, with score 0.06\n",
      "Region 48, b'S_circular_insula_ant', best number of regions: 2, with score 0.04\n",
      "Region 49, b'S_circular_insula_inf', best number of regions: 6, with score 0.05\n",
      "Region 50, b'S_circular_insula_sup', best number of regions: 2, with score 0.10\n",
      "Region 51, b'S_collat_transv_ant', best number of regions: 2, with score 0.06\n",
      "Region 52, b'S_collat_transv_post', best number of regions: 32, with score 0.03\n",
      "Region 53, b'S_front_inf', best number of regions: 6, with score 0.07\n",
      "Region 54, b'S_front_middle', best number of regions: 49, with score 1.06\n",
      "Region 55, b'S_front_sup', best number of regions: 2, with score 0.13\n",
      "Region 56, b'S_interm_prim-Jensen', best number of regions: 11, with score 6.31\n",
      "Region 57, b'S_intrapariet_and_P_trans', best number of regions: 2, with score 0.06\n",
      "Region 58, b'S_oc_middle_and_Lunatus', best number of regions: 4, with score 0.03\n",
      "Region 59, b'S_oc_sup_and_transversal', best number of regions: 35, with score 0.03\n",
      "Region 60, b'S_occipital_ant', best number of regions: 2, with score 0.11\n",
      "Region 61, b'S_oc-temp_lat', best number of regions: 3, with score 0.04\n",
      "Region 62, b'S_oc-temp_med_and_Lingual', best number of regions: 13, with score 0.04\n",
      "Region 63, b'S_orbital_lateral', best number of regions: 3, with score 0.15\n",
      "Region 64, b'S_orbital_med-olfact', best number of regions: 49, with score 0.01\n",
      "Region 65, b'S_orbital-H_Shaped', best number of regions: 3, with score 0.05\n",
      "Region 66, b'S_parieto_occipital', best number of regions: 2, with score 0.08\n",
      "Region 67, b'S_pericallosal', best number of regions: 7, with score 0.05\n",
      "Region 68, b'S_postcentral', best number of regions: 5, with score 0.08\n",
      "Region 69, b'S_precentral-inf-part', best number of regions: 28, with score 0.03\n",
      "Region 70, b'S_precentral-sup-part', best number of regions: 5, with score 0.05\n",
      "Region 71, b'S_suborbital', best number of regions: 3, with score 0.05\n",
      "Region 72, b'S_subparietal', best number of regions: 4, with score 0.07\n",
      "Region 73, b'S_temporal_inf', best number of regions: 46, with score 0.03\n",
      "Region 74, b'S_temporal_sup', best number of regions: 3, with score 0.12\n",
      "Region 75, b'S_temporal_transverse', best number of regions: 39, with score 0.04\n"
     ]
    }
   ],
   "source": [
    "# Example usage:\n",
    "region_data = parse_algorithm_output('HMMoutpout')"
   ],
   "metadata": {
    "collapsed": false,
    "pycharm": {
     "name": "#%%\n"
    }
   }
  },
  {
   "cell_type": "code",
   "execution_count": 9,
   "outputs": [],
   "source": [
    "# create a dictionary with X as key and num regions as value\n",
    "region_dict = {}\n",
    "for key in region_data:\n",
    "    region_dict[key] = region_data[key]['Y']"
   ],
   "metadata": {
    "collapsed": false,
    "pycharm": {
     "name": "#%%\n"
    }
   }
  },
  {
   "cell_type": "code",
   "execution_count": null,
   "outputs": [],
   "source": [
    "region_dict"
   ],
   "metadata": {
    "collapsed": false,
    "pycharm": {
     "name": "#%%\n"
    }
   }
  },
  {
   "cell_type": "code",
   "execution_count": 12,
   "outputs": [],
   "source": [
    "# SAVE THE DICTIONARY\n",
    "import pickle\n",
    "with open('region_dict17andup.pkl', 'wb') as f:\n",
    "    pickle.dump(region_dict, f)\n",
    "# save the pickle\n"
   ],
   "metadata": {
    "collapsed": false,
    "pycharm": {
     "name": "#%%# SAVE THE DICTIONARY\n"
    }
   }
  }
 ],
 "metadata": {
  "kernelspec": {
   "display_name": "Python 3",
   "language": "python",
   "name": "python3"
  },
  "language_info": {
   "codemirror_mode": {
    "name": "ipython",
    "version": 2
   },
   "file_extension": ".py",
   "mimetype": "text/x-python",
   "name": "python",
   "nbconvert_exporter": "python",
   "pygments_lexer": "ipython2",
   "version": "2.7.6"
  }
 },
 "nbformat": 4,
 "nbformat_minor": 0
}